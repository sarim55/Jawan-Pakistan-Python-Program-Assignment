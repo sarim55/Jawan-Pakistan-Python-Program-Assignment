{
 "cells": [
  {
   "cell_type": "code",
   "execution_count": 22,
   "id": "074a8818",
   "metadata": {
    "scrolled": true
   },
   "outputs": [
    {
     "name": "stdout",
     "output_type": "stream",
     "text": [
      "Twinkle, twinkle, little star,\n",
      "\tHow I wonder what you are!\n",
      "\t\tUp above the world so high,\n",
      "\t\tLike a diamond in the sky.\n",
      "Twinkle, twinkle, little star,\n",
      "\tHow I wonder what you are\n"
     ]
    }
   ],
   "source": [
    "\"\"\"\"\n",
    "1. Write a Python program to print the following string in a specific format (see the output).\n",
    "Twinkle, twinkle, little star,\n",
    "        How I wonder what you are!\n",
    "                Up above the world so high,\n",
    "                Like a diamond in the sky.\n",
    "Twinkle, twinkle, little star,\n",
    "        How I wonder what you are\n",
    "\"\"\"\n",
    "print(\"Twinkle, twinkle, little star,\\n\\tHow I wonder what you are!\\n\\t\\tUp above the world so high,\")\n",
    "print(\"\\t\\tLike a diamond in the sky.\\nTwinkle, twinkle, little star,\\n\\tHow I wonder what you are\")"
   ]
  },
  {
   "cell_type": "code",
   "execution_count": 6,
   "id": "f8726461",
   "metadata": {},
   "outputs": [
    {
     "name": "stdout",
     "output_type": "stream",
     "text": [
      "Python version\n",
      "3.8.8 (default, Apr 13 2021, 15:08:03) [MSC v.1916 64 bit (AMD64)]\n"
     ]
    }
   ],
   "source": [
    "#2. Write a Python program to get the Python version you are using\n",
    "\n",
    "import sys\n",
    "print(\"Python version\")\n",
    "print (sys.version)"
   ]
  },
  {
   "cell_type": "code",
   "execution_count": 7,
   "id": "3aac6d84",
   "metadata": {},
   "outputs": [
    {
     "name": "stdout",
     "output_type": "stream",
     "text": [
      "2021-10-23 13:18:17.592981\n"
     ]
    }
   ],
   "source": [
    "#3. Write a Python program to display the current date and time.\n",
    "\n",
    "from datetime import datetime\n",
    "print(datetime.now())"
   ]
  },
  {
   "cell_type": "code",
   "execution_count": 8,
   "id": "452b2112",
   "metadata": {},
   "outputs": [
    {
     "name": "stdout",
     "output_type": "stream",
     "text": [
      "Enter the value of radius 2.4\n",
      "15.072\n"
     ]
    }
   ],
   "source": [
    "#4. Write a Python program which accepts the radius of a circle from the user and compute the area.\n",
    "\n",
    "a=float(input(\"Enter the value of radius \"))\n",
    "area=2*3.14*a\n",
    "print(area)"
   ]
  },
  {
   "cell_type": "code",
   "execution_count": 11,
   "id": "6bc3cb6a",
   "metadata": {},
   "outputs": [
    {
     "name": "stdout",
     "output_type": "stream",
     "text": [
      "Enter the first name: Sarim\n",
      "Enter the last name: Ali Khan\n",
      "m i r a S \n",
      "n a h K   i l A \n"
     ]
    }
   ],
   "source": [
    "#5. Write a Python program which accepts the user's first and last name and print them in reverse order with a space between them.\n",
    "\n",
    "n1 =input(\"Enter the first name: \")\n",
    "n2 = input(\"Enter the last name: \")\n",
    "count=0\n",
    "count2=0\n",
    "for s in n1:\n",
    "    count+=1\n",
    "for s in n2:\n",
    "    count2 +=1\n",
    "for s in n1:\n",
    "    if s == n1[0]:\n",
    "        s1 =n1[count-1] + \" \"\n",
    "    else:\n",
    "        s1 =  s1 + n1[count-1] + \" \"\n",
    "    count -=1 \n",
    "for s in n2:\n",
    "    if s == n2[0]:\n",
    "        s2 =n2[count2-1] + \" \"\n",
    "    else:\n",
    "        s2 =  s2 + n2[count2-1] + \" \"\n",
    "    count2 -=1\n",
    "print(s1) \n",
    "print(s2)"
   ]
  },
  {
   "cell_type": "code",
   "execution_count": 12,
   "id": "50760287",
   "metadata": {},
   "outputs": [
    {
     "name": "stdout",
     "output_type": "stream",
     "text": [
      "Enter first number: 22\n",
      "Enter second number: 12\n",
      "34\n"
     ]
    }
   ],
   "source": [
    "#6. Write a python program which takes two inputs from user and print them addition\n",
    "\n",
    "no1=int(input(\"Enter first number: \"))\n",
    "no2=int(input(\"Enter second number: \"))\n",
    "total=no1+no2\n",
    "print(total)"
   ]
  },
  {
   "cell_type": "code",
   "execution_count": 13,
   "id": "e71db391",
   "metadata": {},
   "outputs": [
    {
     "name": "stdout",
     "output_type": "stream",
     "text": [
      "Enter Math Marks out of 100= 78\n",
      "Enter English Marks out of 100= 54\n",
      "Enter Urdu Marks out of 100= 63\n",
      "Enter Science Marks out of 100= 23\n",
      "Enter Islamiat Marks out of 100= 46\n",
      "Total number=  264\n",
      "Percentage= 52.8\n",
      "C Grade\n"
     ]
    }
   ],
   "source": [
    "#7. Write a program which takes 5 inputs from user for different subject’s marks, total it and generate mark sheet using grades ?\n",
    "\n",
    "math=int(input(\"Enter Math Marks out of 100= \"))\n",
    "eng=int(input(\"Enter English Marks out of 100= \"))\n",
    "urdu=int(input(\"Enter Urdu Marks out of 100= \"))\n",
    "sci=int(input(\"Enter Science Marks out of 100= \"))\n",
    "isl=int(input(\"Enter Islamiat Marks out of 100= \"))\n",
    "Total=math+eng+urdu+sci+isl\n",
    "print(\"Total number= \",Total)\n",
    "Percent=Total*100/500\n",
    "print(\"Percentage=\",Percent)\n",
    "if Percent >= 80:\n",
    "    print(\"A+ Grade\")\n",
    "elif Percent  >= 70 and Percent < 80:\n",
    "    print(\"A Grade\")\n",
    "elif Percent >= 60 and Percent < 70:\n",
    "    print(\"B Grade\")\n",
    "elif Percent >=50  and Percent < 60:\n",
    "    print(\"C Grade\")\n",
    "else :\n",
    "    print(\"FAIL\")"
   ]
  },
  {
   "cell_type": "code",
   "execution_count": 15,
   "id": "48529347",
   "metadata": {},
   "outputs": [
    {
     "name": "stdout",
     "output_type": "stream",
     "text": [
      "Enter Number: 66\n",
      "Given number is Even\n"
     ]
    }
   ],
   "source": [
    "#8. Write a program which take input from user and identify that the given number is even or odd?\n",
    "\n",
    "num=int(input(\"Enter Number: \"))\n",
    "if num%2==0:\n",
    "    print(\"Given number is Even\")\n",
    "else :\n",
    "    print(\"Given Number is Odd\")"
   ]
  },
  {
   "cell_type": "code",
   "execution_count": 16,
   "id": "71d32cd6",
   "metadata": {},
   "outputs": [
    {
     "name": "stdout",
     "output_type": "stream",
     "text": [
      "Length of Line is:  5\n"
     ]
    }
   ],
   "source": [
    "#9. Write a program which print the length of the list?\n",
    "\n",
    "Line=[\"Ibad\",99,0.987,False,\"Kamran\"]\n",
    "print(\"Length of Line is: \",len(Line))"
   ]
  },
  {
   "cell_type": "code",
   "execution_count": 19,
   "id": "5cad235c",
   "metadata": {},
   "outputs": [
    {
     "name": "stdout",
     "output_type": "stream",
     "text": [
      "Total: 102\n"
     ]
    }
   ],
   "source": [
    "#10. Write a Python program to sum all the numeric items in a list?\n",
    "\n",
    "num=[34,65,2,1]\n",
    "print(\"Total:\",sum(num))"
   ]
  },
  {
   "cell_type": "code",
   "execution_count": 20,
   "id": "fe51d08b",
   "metadata": {},
   "outputs": [
    {
     "name": "stdout",
     "output_type": "stream",
     "text": [
      "Largest number:  987\n"
     ]
    }
   ],
   "source": [
    "#11. Write a Python program to get the largest number from a numeric list.\n",
    "\n",
    "larg=[34,1,3,5,90,987]\n",
    "print(\"Largest number: \",max(larg))"
   ]
  },
  {
   "cell_type": "code",
   "execution_count": 21,
   "id": "02822e65",
   "metadata": {},
   "outputs": [
    {
     "name": "stdout",
     "output_type": "stream",
     "text": [
      "1\n",
      "1\n",
      "2\n",
      "3\n"
     ]
    }
   ],
   "source": [
    "#12. Take a list, say for example this one:\n",
    "#a = [1, 1, 2, 3, 5, 8, 13, 21, 34, 55, 89]\n",
    "#Write a program that prints out all the elements of the list that are less than 5.\n",
    "\n",
    "a = [1, 1, 2, 3, 5, 8, 13, 21, 34, 55, 89]\n",
    "for b in a:\n",
    "    if b < 5:\n",
    "        print(b)"
   ]
  },
  {
   "cell_type": "code",
   "execution_count": null,
   "id": "553a98d6",
   "metadata": {},
   "outputs": [],
   "source": []
  }
 ],
 "metadata": {
  "kernelspec": {
   "display_name": "Python 3",
   "language": "python",
   "name": "python3"
  },
  "language_info": {
   "codemirror_mode": {
    "name": "ipython",
    "version": 3
   },
   "file_extension": ".py",
   "mimetype": "text/x-python",
   "name": "python",
   "nbconvert_exporter": "python",
   "pygments_lexer": "ipython3",
   "version": "3.8.8"
  }
 },
 "nbformat": 4,
 "nbformat_minor": 5
}
