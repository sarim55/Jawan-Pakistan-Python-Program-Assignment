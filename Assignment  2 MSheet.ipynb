{
 "cells": [
  {
   "cell_type": "code",
   "execution_count": 3,
   "id": "0562faf7",
   "metadata": {},
   "outputs": [
    {
     "name": "stdout",
     "output_type": "stream",
     "text": [
      "Obtained Mark =  233\n",
      "Total Marks =  300\n",
      "Percentage= 77.66666666666667 %\n",
      "A Grade\n"
     ]
    }
   ],
   "source": [
    "Math= 79;\n",
    "Eng= 64;\n",
    "Isl= 90;\n",
    "OMarks=Math+Eng+Isl\n",
    "print(\"Obtained Mark = \",OMarks)\n",
    "TotalMarks=300;\n",
    "print(\"Total Marks = \",TotalMarks)\n",
    "Percent=OMarks*100/TotalMarks\n",
    "print(\"Percentage=\",Percent,\"%\")\n",
    "if Percent >= 80:\n",
    "    print(\"A+ Grade\")\n",
    "elif Percent  >= 70 and Percent < 80:\n",
    "    print(\"A Grade\")\n",
    "elif Percent >= 60 and Percent < 70:\n",
    "    print(\"B Grade\")\n",
    "elif Percent >=50  and Percent < 60:\n",
    "    print(\"C Grade\")\n",
    "else :\n",
    "    print(\"FAIL\")"
   ]
  },
  {
   "cell_type": "code",
   "execution_count": null,
   "id": "f224694d",
   "metadata": {},
   "outputs": [],
   "source": []
  }
 ],
 "metadata": {
  "kernelspec": {
   "display_name": "Python 3",
   "language": "python",
   "name": "python3"
  },
  "language_info": {
   "codemirror_mode": {
    "name": "ipython",
    "version": 3
   },
   "file_extension": ".py",
   "mimetype": "text/x-python",
   "name": "python",
   "nbconvert_exporter": "python",
   "pygments_lexer": "ipython3",
   "version": "3.8.8"
  }
 },
 "nbformat": 4,
 "nbformat_minor": 5
}
